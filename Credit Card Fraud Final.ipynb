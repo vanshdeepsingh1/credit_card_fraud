{
 "cells": [
  {
   "cell_type": "markdown",
   "metadata": {},
   "source": [
    "# Credit Card Fraud Detection (Imbalanced dataset)"
   ]
  },
  {
   "cell_type": "code",
   "execution_count": 73,
   "metadata": {},
   "outputs": [
    {
     "name": "stdout",
     "output_type": "stream",
     "text": [
      "Populating the interactive namespace from numpy and matplotlib\n"
     ]
    }
   ],
   "source": [
    "%pylab inline\n",
    "import pandas as pd\n",
    "import seaborn as sns\n",
    "\n",
    "from sklearn.model_selection import train_test_split\n",
    "from sklearn.linear_model import LogisticRegression\n",
    "from sklearn.metrics import accuracy_score, roc_auc_score, confusion_matrix, classification_report\n",
    "from sklearn.model_selection import cross_val_score\n",
    "from sklearn.model_selection import cross_val_predict\n",
    "\n",
    "import warnings\n",
    "warnings.filterwarnings('ignore')"
   ]
  },
  {
   "cell_type": "markdown",
   "metadata": {},
   "source": [
    "<b>Read the data file"
   ]
  },
  {
   "cell_type": "code",
   "execution_count": 74,
   "metadata": {},
   "outputs": [],
   "source": [
    "#Read the data file\n",
    "cc = pd.read_csv(\"E:/SCU Business Analytics/Machine Learning/Assignment/DSTMAA_data/creditcard.csv\")"
   ]
  },
  {
   "cell_type": "code",
   "execution_count": 75,
   "metadata": {},
   "outputs": [
    {
     "data": {
      "text/html": [
       "<div>\n",
       "<style scoped>\n",
       "    .dataframe tbody tr th:only-of-type {\n",
       "        vertical-align: middle;\n",
       "    }\n",
       "\n",
       "    .dataframe tbody tr th {\n",
       "        vertical-align: top;\n",
       "    }\n",
       "\n",
       "    .dataframe thead th {\n",
       "        text-align: right;\n",
       "    }\n",
       "</style>\n",
       "<table border=\"1\" class=\"dataframe\">\n",
       "  <thead>\n",
       "    <tr style=\"text-align: right;\">\n",
       "      <th></th>\n",
       "      <th>Time</th>\n",
       "      <th>V1</th>\n",
       "      <th>V2</th>\n",
       "      <th>V3</th>\n",
       "      <th>V4</th>\n",
       "      <th>V5</th>\n",
       "      <th>V6</th>\n",
       "      <th>V7</th>\n",
       "      <th>V8</th>\n",
       "      <th>V9</th>\n",
       "      <th>...</th>\n",
       "      <th>V21</th>\n",
       "      <th>V22</th>\n",
       "      <th>V23</th>\n",
       "      <th>V24</th>\n",
       "      <th>V25</th>\n",
       "      <th>V26</th>\n",
       "      <th>V27</th>\n",
       "      <th>V28</th>\n",
       "      <th>Amount</th>\n",
       "      <th>Class</th>\n",
       "    </tr>\n",
       "  </thead>\n",
       "  <tbody>\n",
       "    <tr>\n",
       "      <th>0</th>\n",
       "      <td>0.0</td>\n",
       "      <td>-1.359807</td>\n",
       "      <td>-0.072781</td>\n",
       "      <td>2.536347</td>\n",
       "      <td>1.378155</td>\n",
       "      <td>-0.338321</td>\n",
       "      <td>0.462388</td>\n",
       "      <td>0.239599</td>\n",
       "      <td>0.098698</td>\n",
       "      <td>0.363787</td>\n",
       "      <td>...</td>\n",
       "      <td>-0.018307</td>\n",
       "      <td>0.277838</td>\n",
       "      <td>-0.110474</td>\n",
       "      <td>0.066928</td>\n",
       "      <td>0.128539</td>\n",
       "      <td>-0.189115</td>\n",
       "      <td>0.133558</td>\n",
       "      <td>-0.021053</td>\n",
       "      <td>149.62</td>\n",
       "      <td>0</td>\n",
       "    </tr>\n",
       "    <tr>\n",
       "      <th>1</th>\n",
       "      <td>0.0</td>\n",
       "      <td>1.191857</td>\n",
       "      <td>0.266151</td>\n",
       "      <td>0.166480</td>\n",
       "      <td>0.448154</td>\n",
       "      <td>0.060018</td>\n",
       "      <td>-0.082361</td>\n",
       "      <td>-0.078803</td>\n",
       "      <td>0.085102</td>\n",
       "      <td>-0.255425</td>\n",
       "      <td>...</td>\n",
       "      <td>-0.225775</td>\n",
       "      <td>-0.638672</td>\n",
       "      <td>0.101288</td>\n",
       "      <td>-0.339846</td>\n",
       "      <td>0.167170</td>\n",
       "      <td>0.125895</td>\n",
       "      <td>-0.008983</td>\n",
       "      <td>0.014724</td>\n",
       "      <td>2.69</td>\n",
       "      <td>0</td>\n",
       "    </tr>\n",
       "    <tr>\n",
       "      <th>2</th>\n",
       "      <td>1.0</td>\n",
       "      <td>-1.358354</td>\n",
       "      <td>-1.340163</td>\n",
       "      <td>1.773209</td>\n",
       "      <td>0.379780</td>\n",
       "      <td>-0.503198</td>\n",
       "      <td>1.800499</td>\n",
       "      <td>0.791461</td>\n",
       "      <td>0.247676</td>\n",
       "      <td>-1.514654</td>\n",
       "      <td>...</td>\n",
       "      <td>0.247998</td>\n",
       "      <td>0.771679</td>\n",
       "      <td>0.909412</td>\n",
       "      <td>-0.689281</td>\n",
       "      <td>-0.327642</td>\n",
       "      <td>-0.139097</td>\n",
       "      <td>-0.055353</td>\n",
       "      <td>-0.059752</td>\n",
       "      <td>378.66</td>\n",
       "      <td>0</td>\n",
       "    </tr>\n",
       "    <tr>\n",
       "      <th>3</th>\n",
       "      <td>1.0</td>\n",
       "      <td>-0.966272</td>\n",
       "      <td>-0.185226</td>\n",
       "      <td>1.792993</td>\n",
       "      <td>-0.863291</td>\n",
       "      <td>-0.010309</td>\n",
       "      <td>1.247203</td>\n",
       "      <td>0.237609</td>\n",
       "      <td>0.377436</td>\n",
       "      <td>-1.387024</td>\n",
       "      <td>...</td>\n",
       "      <td>-0.108300</td>\n",
       "      <td>0.005274</td>\n",
       "      <td>-0.190321</td>\n",
       "      <td>-1.175575</td>\n",
       "      <td>0.647376</td>\n",
       "      <td>-0.221929</td>\n",
       "      <td>0.062723</td>\n",
       "      <td>0.061458</td>\n",
       "      <td>123.50</td>\n",
       "      <td>0</td>\n",
       "    </tr>\n",
       "    <tr>\n",
       "      <th>4</th>\n",
       "      <td>2.0</td>\n",
       "      <td>-1.158233</td>\n",
       "      <td>0.877737</td>\n",
       "      <td>1.548718</td>\n",
       "      <td>0.403034</td>\n",
       "      <td>-0.407193</td>\n",
       "      <td>0.095921</td>\n",
       "      <td>0.592941</td>\n",
       "      <td>-0.270533</td>\n",
       "      <td>0.817739</td>\n",
       "      <td>...</td>\n",
       "      <td>-0.009431</td>\n",
       "      <td>0.798278</td>\n",
       "      <td>-0.137458</td>\n",
       "      <td>0.141267</td>\n",
       "      <td>-0.206010</td>\n",
       "      <td>0.502292</td>\n",
       "      <td>0.219422</td>\n",
       "      <td>0.215153</td>\n",
       "      <td>69.99</td>\n",
       "      <td>0</td>\n",
       "    </tr>\n",
       "  </tbody>\n",
       "</table>\n",
       "<p>5 rows × 31 columns</p>\n",
       "</div>"
      ],
      "text/plain": [
       "   Time        V1        V2        V3        V4        V5        V6        V7  \\\n",
       "0   0.0 -1.359807 -0.072781  2.536347  1.378155 -0.338321  0.462388  0.239599   \n",
       "1   0.0  1.191857  0.266151  0.166480  0.448154  0.060018 -0.082361 -0.078803   \n",
       "2   1.0 -1.358354 -1.340163  1.773209  0.379780 -0.503198  1.800499  0.791461   \n",
       "3   1.0 -0.966272 -0.185226  1.792993 -0.863291 -0.010309  1.247203  0.237609   \n",
       "4   2.0 -1.158233  0.877737  1.548718  0.403034 -0.407193  0.095921  0.592941   \n",
       "\n",
       "         V8        V9  ...         V21       V22       V23       V24  \\\n",
       "0  0.098698  0.363787  ...   -0.018307  0.277838 -0.110474  0.066928   \n",
       "1  0.085102 -0.255425  ...   -0.225775 -0.638672  0.101288 -0.339846   \n",
       "2  0.247676 -1.514654  ...    0.247998  0.771679  0.909412 -0.689281   \n",
       "3  0.377436 -1.387024  ...   -0.108300  0.005274 -0.190321 -1.175575   \n",
       "4 -0.270533  0.817739  ...   -0.009431  0.798278 -0.137458  0.141267   \n",
       "\n",
       "        V25       V26       V27       V28  Amount  Class  \n",
       "0  0.128539 -0.189115  0.133558 -0.021053  149.62      0  \n",
       "1  0.167170  0.125895 -0.008983  0.014724    2.69      0  \n",
       "2 -0.327642 -0.139097 -0.055353 -0.059752  378.66      0  \n",
       "3  0.647376 -0.221929  0.062723  0.061458  123.50      0  \n",
       "4 -0.206010  0.502292  0.219422  0.215153   69.99      0  \n",
       "\n",
       "[5 rows x 31 columns]"
      ]
     },
     "execution_count": 75,
     "metadata": {},
     "output_type": "execute_result"
    }
   ],
   "source": [
    "cc.head()"
   ]
  },
  {
   "cell_type": "markdown",
   "metadata": {},
   "source": [
    "<b>Data Exploration"
   ]
  },
  {
   "cell_type": "markdown",
   "metadata": {},
   "source": [
    "28 out of 31 columns are PCA generated. We do not have original features and more background information about the data (V1,V2,....V28).  "
   ]
  },
  {
   "cell_type": "code",
   "execution_count": 76,
   "metadata": {},
   "outputs": [
    {
     "name": "stdout",
     "output_type": "stream",
     "text": [
      "Total number of observations: 284807\n"
     ]
    }
   ],
   "source": [
    "print('Total number of observations:',len(cc.index))"
   ]
  },
  {
   "cell_type": "code",
   "execution_count": 77,
   "metadata": {},
   "outputs": [
    {
     "name": "stdout",
     "output_type": "stream",
     "text": [
      "Percentage of fradulent transactions in data.: 0.1727485630620034\n"
     ]
    },
    {
     "data": {
      "text/plain": [
       "<matplotlib.axes._subplots.AxesSubplot at 0x1e2000b88d0>"
      ]
     },
     "execution_count": 77,
     "metadata": {},
     "output_type": "execute_result"
    },
    {
     "data": {
      "image/png": "[encoded data removed]",
      "text/plain": [
       "<Figure size 432x288 with 1 Axes>"
      ]
     },
     "metadata": {},
     "output_type": "display_data"
    }
   ],
   "source": [
    "print('Percentage of fradulent transactions in data.:',cc.Class.mean()*100)\n",
    "sns.countplot(cc.Class)"
   ]
  },
  {
   "cell_type": "markdown",
   "metadata": {},
   "source": [
    "It is clear from the above  distribution that number of fradulent transactions are very low (only .17%) as compared to non-fradulent transaction (99.83%). Directly running any classifier will yield higher accuracy score as one of the class is highly represented in the data."
   ]
  },
  {
   "cell_type": "markdown",
   "metadata": {},
   "source": [
    "<b>Time - Data is collected for 2 days. During the day time, number of transactions are higher than night. Will drop this variable."
   ]
  },
  {
   "cell_type": "code",
   "execution_count": 78,
   "metadata": {
    "scrolled": true
   },
   "outputs": [
    {
     "data": {
      "text/plain": [
       "<matplotlib.axes._subplots.AxesSubplot at 0x1e2000efe48>"
      ]
     },
     "execution_count": 78,
     "metadata": {},
     "output_type": "execute_result"
    },
    {
     "data": {
      "image/png": "[encoded data removed]",
      "text/plain": [
       "<Figure size 432x288 with 1 Axes>"
      ]
     },
     "metadata": {},
     "output_type": "display_data"
    }
   ],
   "source": [
    "sns.distplot(cc.Time)"
   ]
  },
  {
   "cell_type": "markdown",
   "metadata": {},
   "source": [
    "<b>Amount - There are very few transactions of higher values. Lower value transactions dominates the data."
   ]
  },
  {
   "cell_type": "code",
   "execution_count": 79,
   "metadata": {
    "scrolled": true
   },
   "outputs": [
    {
     "data": {
      "text/plain": [
       "<matplotlib.axes._subplots.AxesSubplot at 0x1e200153518>"
      ]
     },
     "execution_count": 79,
     "metadata": {},
     "output_type": "execute_result"
    },
    {
     "data": {
      "image/png": "[encoded data removed]",
      "text/plain": [
       "<Figure size 432x288 with 1 Axes>"
      ]
     },
     "metadata": {},
     "output_type": "display_data"
    }
   ],
   "source": [
    "sns.distplot(cc.Amount,kde=False)"
   ]
  },
  {
   "cell_type": "markdown",
   "metadata": {},
   "source": [
    "Normalizing the variables (Amount)"
   ]
  },
  {
   "cell_type": "code",
   "execution_count": 80,
   "metadata": {},
   "outputs": [],
   "source": [
    "cc['amt_normalize'] = ((cc.Amount) - (cc.Amount.mean()))/(cc.Amount.std())"
   ]
  },
  {
   "cell_type": "markdown",
   "metadata": {},
   "source": [
    "<b><font color = 'blue'>A. Directly Running logistic regression to classify fradulent and non-fradulent transactions. \n",
    "<br><b><p> <font color='red'>This approach is not correct. It's just to showcase what is wrong."
   ]
  },
  {
   "cell_type": "markdown",
   "metadata": {},
   "source": [
    "<b>A-1. Creating training and test data  "
   ]
  },
  {
   "cell_type": "code",
   "execution_count": 81,
   "metadata": {},
   "outputs": [],
   "source": [
    "cc1 = cc.copy()\n",
    "y = cc.Class\n",
    "X = cc.drop(columns =['Class','Amount','Time']) #dropping time too\n",
    "#  Train and Test datasets\n",
    "X_train, X_test, y_train, y_test = train_test_split(X, y, test_size=0.33, random_state=0)"
   ]
  },
  {
   "cell_type": "code",
   "execution_count": 82,
   "metadata": {},
   "outputs": [],
   "source": [
    "#saving original data of X and y. This will be used when trying out diffrent methods.\n",
    "X_org = X\n",
    "y_org = y"
   ]
  },
  {
   "cell_type": "markdown",
   "metadata": {},
   "source": [
    "<b>A-2. Fit logistic regression classifier to train data."
   ]
  },
  {
   "cell_type": "code",
   "execution_count": 83,
   "metadata": {},
   "outputs": [],
   "source": [
    "# instantiate a logistic regression model, and fit with X_train and y_train\n",
    "model = LogisticRegression()\n",
    "model = model.fit(X_train, y_train)"
   ]
  },
  {
   "cell_type": "markdown",
   "metadata": {},
   "source": [
    "<b>A-3. Accuracy, Confusion Matrix & is there Overfitting?"
   ]
  },
  {
   "cell_type": "code",
   "execution_count": 84,
   "metadata": {},
   "outputs": [
    {
     "name": "stdout",
     "output_type": "stream",
     "text": [
      "accuracy on the training set: 0.9992191594172518\n",
      "accuracy on the testing set: 0.9991594582229457\n"
     ]
    }
   ],
   "source": [
    "# check the accuracy on the training set\n",
    "print(\"accuracy on the training set:\",model.score(X_train, y_train))\n",
    "\n",
    "# check the accuracy on the test dataset\n",
    "print(\"accuracy on the testing set:\",model.score(X_test, y_test))"
   ]
  },
  {
   "cell_type": "code",
   "execution_count": 85,
   "metadata": {},
   "outputs": [
    {
     "name": "stdout",
     "output_type": "stream",
     "text": [
      "Confusion Matrix on train data\n",
      "[[190463    122]\n",
      " [    27    208]]\n",
      "Confusion Matrix on test data\n",
      "[[93811    65]\n",
      " [   14    97]]\n"
     ]
    }
   ],
   "source": [
    "# Predict class labels for the train set\n",
    "predicted = model.predict(X_train)\n",
    "# Confusion Matrix for train data\n",
    "print('Confusion Matrix on train data')\n",
    "print(confusion_matrix(predicted, y_train))\n",
    "\n",
    "# Predict class labels for the test dataset\n",
    "predicted_test = model.predict(X_test)\n",
    "# Confusion Matrix for test data\n",
    "print('Confusion Matrix on test data')\n",
    "print(confusion_matrix(predicted_test, y_test))"
   ]
  },
  {
   "cell_type": "markdown",
   "metadata": {},
   "source": [
    "There is <b>no overfitting</b> because the model is predicting the 'test' dataset almost similar to train dataset.\n",
    "<br><br>\n",
    "Since,our dataset is highly imbalanced, the accuracy is only reflecting the underlying class distribution which in this case is majority non-fradulent cases. Therefore, we need to compute other metrices like precision, recall and F1 score using confusion matrix to detect overfitting."
   ]
  },
  {
   "cell_type": "markdown",
   "metadata": {},
   "source": [
    "<b>A-4. Precision, Recall, F1-Scores and AUC."
   ]
  },
  {
   "cell_type": "code",
   "execution_count": 86,
   "metadata": {
    "scrolled": true
   },
   "outputs": [
    {
     "name": "stdout",
     "output_type": "stream",
     "text": [
      "              precision    recall  f1-score   support\n",
      "\n",
      "           0       1.00      1.00      1.00     93876\n",
      "           1       0.60      0.87      0.71       111\n",
      "\n",
      "   micro avg       1.00      1.00      1.00     93987\n",
      "   macro avg       0.80      0.94      0.86     93987\n",
      "weighted avg       1.00      1.00      1.00     93987\n",
      "\n"
     ]
    }
   ],
   "source": [
    "print(classification_report(predicted_test, y_test))"
   ]
  },
  {
   "cell_type": "markdown",
   "metadata": {},
   "source": [
    "We observed that our model is predicting non-fraulent transactions very well. However, they are <b> not predicting fradulent transactions</b> that well. For fradulent transactions, precision is 60%, recall is 87% and F1-score of 71% only."
   ]
  },
  {
   "cell_type": "markdown",
   "metadata": {},
   "source": [
    "<b>So, which metric is most important?</b>\n",
    "<ul><li>Precision is an important metric - We want our model to be precise. If our model is not predicting correctly then banks would block the genuine transactions which lead to customer dissatisfaction.\n",
    "    <li>Recall is also an important metric - If recall is low than our model is not predicting fradulent transactions well. Bank will have to incur losses as these transactions are not getting detected correctly.\n",
    "    <li>Therefore, we are looking at F1 score which is harmonic mean of precision and recall scores."
   ]
  },
  {
   "cell_type": "code",
   "execution_count": 87,
   "metadata": {
    "scrolled": true
   },
   "outputs": [
    {
     "data": {
      "image/png": "[encoded data removed]",
      "text/plain": [
       "<Figure size 432x288 with 1 Axes>"
      ]
     },
     "metadata": {},
     "output_type": "display_data"
    },
    {
     "name": "stdout",
     "output_type": "stream",
     "text": [
      "Area under curve (AUC):  0.96833762619534\n"
     ]
    }
   ],
   "source": [
    "#ROC, AUC\n",
    "from sklearn.metrics import roc_curve, auc\n",
    "y_score = model.predict_proba(X_test)[:,1]\n",
    "fpr, tpr, _ = roc_curve(y_test, y_score)\n",
    "\n",
    "title('ROC curve')\n",
    "xlabel('FPR (Precision)')\n",
    "ylabel('TPR (Recall)')\n",
    "\n",
    "plot(fpr,tpr)\n",
    "plot((0,1), ls='dashed',color='black')\n",
    "plt.show()\n",
    "print('Area under curve (AUC): ', auc(fpr,tpr))"
   ]
  },
  {
   "cell_type": "markdown",
   "metadata": {},
   "source": [
    "<b>Though AUC is high, we are not satisfied with the our results as it is not capturing fraudulent transactions that well. Our model is predicting non-fradulent transaction better than fradulent transactions. We also know that this is happening because of highly imbalanced dataset. So what should we do?"
   ]
  },
  {
   "cell_type": "markdown",
   "metadata": {},
   "source": [
    "<b>Following are few techniques I have tried to cater the issue of imbalanced dataset.\n",
    "<ol><li> Cross-Validation\n",
    "    <li> Oversample minority class (i.e. fradulent transactions)\n",
    "    <li> Ensemble modelling (Random Forrest)\n",
    "    <li> Bagging\n",
    "    <li> Boosting (XGBoost, ADABoost)\n",
    "    <li> Changing the Threshold"
   ]
  },
  {
   "cell_type": "markdown",
   "metadata": {},
   "source": [
    "<b><font color = 'blue'>1. Cross-Validation"
   ]
  },
  {
   "cell_type": "markdown",
   "metadata": {},
   "source": [
    "On Train data"
   ]
  },
  {
   "cell_type": "code",
   "execution_count": 88,
   "metadata": {},
   "outputs": [
    {
     "name": "stdout",
     "output_type": "stream",
     "text": [
      "Confusion Matrix on train data\n",
      "[[190463     27]\n",
      " [   126    204]]\n",
      "accuracy on the training set: 0.9991981972539566\n"
     ]
    }
   ],
   "source": [
    "scores = cross_val_score(model, X_train, y_train, cv=10)\n",
    "y_pred = cross_val_predict(model, X_train, y_train, cv=10)\n",
    "conf_mat = confusion_matrix(y_train, y_pred)\n",
    "print('Confusion Matrix on train data')\n",
    "print(conf_mat)\n",
    "# Accuracy on train data:\n",
    "print(\"accuracy on the training set:\",scores.mean())"
   ]
  },
  {
   "cell_type": "markdown",
   "metadata": {},
   "source": [
    "On Test data"
   ]
  },
  {
   "cell_type": "code",
   "execution_count": 89,
   "metadata": {},
   "outputs": [
    {
     "name": "stdout",
     "output_type": "stream",
     "text": [
      "Confusion Matrix on test data\n",
      "[[93808    17]\n",
      " [   67    95]]\n",
      "accuracy on the training set: 0.9991062584641602\n"
     ]
    }
   ],
   "source": [
    "scores_test = cross_val_score(model, X_test, y_test, cv=10)\n",
    "y_pred_test = cross_val_predict(model, X_test, y_test, cv=10)\n",
    "conf_mat_test = confusion_matrix(y_test, y_pred_test)\n",
    "print('Confusion Matrix on test data')\n",
    "print(conf_mat_test)\n",
    "\n",
    "#Accuracy on Test Data:\n",
    "print(\"accuracy on the training set:\",scores_test.mean())"
   ]
  },
  {
   "cell_type": "code",
   "execution_count": 90,
   "metadata": {
    "scrolled": true
   },
   "outputs": [
    {
     "name": "stdout",
     "output_type": "stream",
     "text": [
      "              precision    recall  f1-score   support\n",
      "\n",
      "           0       1.00      1.00      1.00     93875\n",
      "           1       0.59      0.85      0.69       112\n",
      "\n",
      "   micro avg       1.00      1.00      1.00     93987\n",
      "   macro avg       0.79      0.92      0.85     93987\n",
      "weighted avg       1.00      1.00      1.00     93987\n",
      "\n"
     ]
    }
   ],
   "source": [
    "# cross validation- classification report on test data:\n",
    "print(classification_report(y_pred_test, y_test))"
   ]
  },
  {
   "cell_type": "markdown",
   "metadata": {},
   "source": [
    "<b>There is not much improvement using cross-validation. For fradulent transactions, precision is 59%, recall is 85% and F1-score of 69% only."
   ]
  },
  {
   "cell_type": "markdown",
   "metadata": {},
   "source": [
    "<b><font color = 'blue'>2. Oversampling minority class (i.e. fradulent transactions)"
   ]
  },
  {
   "cell_type": "code",
   "execution_count": 121,
   "metadata": {},
   "outputs": [],
   "source": [
    "from imblearn.over_sampling import SMOTE\n",
    "sm = SMOTE(random_state=42)\n",
    "X= X_org\n",
    "y= y_org\n",
    "X_res, y_res = sm.fit_resample(X, y)\n",
    "\n",
    "#  Train and Test datasets\n",
    "X_train, X_test, y_train, y_test = train_test_split(X_res, y_res, test_size=0.33, random_state=0)"
   ]
  },
  {
   "cell_type": "markdown",
   "metadata": {},
   "source": [
    "Fitting the model on train data."
   ]
  },
  {
   "cell_type": "code",
   "execution_count": 122,
   "metadata": {},
   "outputs": [],
   "source": [
    "# instantiate a logistic regression model, and fit with X_train and y_train\n",
    "model = LogisticRegression()\n",
    "model = model.fit(X_train, y_train)"
   ]
  },
  {
   "cell_type": "markdown",
   "metadata": {},
   "source": [
    "On test data"
   ]
  },
  {
   "cell_type": "code",
   "execution_count": 123,
   "metadata": {},
   "outputs": [
    {
     "name": "stdout",
     "output_type": "stream",
     "text": [
      "accuracy on the testing set: 0.9464955661664393\n",
      "[[91344  7691]\n",
      " [ 2349 86264]]\n",
      "              precision    recall  f1-score   support\n",
      "\n",
      "           0       0.97      0.92      0.95     99035\n",
      "           1       0.92      0.97      0.95     88613\n",
      "\n",
      "   micro avg       0.95      0.95      0.95    187648\n",
      "   macro avg       0.95      0.95      0.95    187648\n",
      "weighted avg       0.95      0.95      0.95    187648\n",
      "\n"
     ]
    },
    {
     "data": {
      "image/png": "[encoded data removed]",
      "text/plain": [
       "<Figure size 432x288 with 1 Axes>"
      ]
     },
     "metadata": {},
     "output_type": "display_data"
    },
    {
     "name": "stdout",
     "output_type": "stream",
     "text": [
      "Area under curve (AUC):  0.9890538533977183\n"
     ]
    }
   ],
   "source": [
    "# check the accuracy on the test dataset\n",
    "print(\"accuracy on the testing set:\",model.score(X_test, y_test))\n",
    "\n",
    "# Predict class labels for the test set\n",
    "predicted = model.predict(X_test)\n",
    "\n",
    "# Confusion Matrix for train data\n",
    "print(confusion_matrix(predicted, y_test))\n",
    "\n",
    "print(classification_report(predicted, y_test))\n",
    "\n",
    "#ROC, AUC\n",
    "from sklearn.metrics import roc_curve, auc\n",
    "y_score = model.predict_proba(X_test)[:,1]\n",
    "fpr, tpr, _ = roc_curve(y_test, y_score)\n",
    "\n",
    "title('ROC curve')\n",
    "xlabel('FPR (Precision)')\n",
    "ylabel('TPR (Recall)')\n",
    "\n",
    "plot(fpr,tpr)\n",
    "plot((0,1), ls='dashed',color='black')\n",
    "plt.show()\n",
    "print('Area under curve (AUC): ', auc(fpr,tpr))"
   ]
  },
  {
   "cell_type": "markdown",
   "metadata": {},
   "source": [
    "<b>AUC is high (98.9%). Along with it our F1-score, precison and recall scores are also high (95%, 92% and 97% respectively).\n",
    "\n",
    "With this approach, we are able to correctly predict 92% of fradulent cases correctly. After oversampling the minority class, our detection rate improved significantly."
   ]
  },
  {
   "cell_type": "markdown",
   "metadata": {},
   "source": [
    "<b><font color = 'blue'> 3. Ensemble modelling (Random Forrest)</b>\n"
   ]
  },
  {
   "cell_type": "code",
   "execution_count": 124,
   "metadata": {},
   "outputs": [],
   "source": [
    "#preparing original data\n",
    "X= X_org\n",
    "y= y_org\n",
    "\n",
    "#  Train and Test datasets\n",
    "X_train, X_test, y_train, y_test = train_test_split(X, y, test_size=0.33, random_state=0)"
   ]
  },
  {
   "cell_type": "code",
   "execution_count": 125,
   "metadata": {},
   "outputs": [],
   "source": [
    "from sklearn import ensemble\n",
    "rf = ensemble.RandomForestClassifier()\n",
    "model_rf = rf.fit(X_train, y_train)"
   ]
  },
  {
   "cell_type": "code",
   "execution_count": 126,
   "metadata": {
    "scrolled": true
   },
   "outputs": [
    {
     "name": "stdout",
     "output_type": "stream",
     "text": [
      "AUC = 0.9287169112446668\n",
      "Accuracy = 0.9994786513028397\n",
      "              precision    recall  f1-score   support\n",
      "\n",
      "           0       1.00      1.00      1.00     93825\n",
      "           1       0.93      0.75      0.83       162\n",
      "\n",
      "   micro avg       1.00      1.00      1.00     93987\n",
      "   macro avg       0.97      0.88      0.92     93987\n",
      "weighted avg       1.00      1.00      1.00     93987\n",
      "\n"
     ]
    },
    {
     "data": {
      "image/png": "[encoded data removed]",
      "text/plain": [
       "<Figure size 432x288 with 1 Axes>"
      ]
     },
     "metadata": {},
     "output_type": "display_data"
    },
    {
     "name": "stdout",
     "output_type": "stream",
     "text": [
      "Area under curve (AUC):  0.9287169112446668\n"
     ]
    }
   ],
   "source": [
    "predicted_rf = model_rf.predict(X_test)\n",
    "probs_rf = model_rf.predict_proba(X_test)\n",
    "print('AUC =', roc_auc_score(y_test, probs_rf[:, 1]))\n",
    "print('Accuracy =', accuracy_score(y_test, predicted_rf))\n",
    "print(classification_report(y_test, predicted_rf))\n",
    "\n",
    "#ROC, AUC\n",
    "from sklearn.metrics import roc_curve, auc\n",
    "y_score = model_rf.predict_proba(X_test)[:,1]\n",
    "fpr, tpr, _ = roc_curve(y_test, y_score)\n",
    "\n",
    "title('ROC curve')\n",
    "xlabel('FPR (Precision)')\n",
    "ylabel('TPR (Recall)')\n",
    "\n",
    "plot(fpr,tpr)\n",
    "plot((0,1), ls='dashed',color='black')\n",
    "plt.show()\n",
    "print('Area under curve (AUC): ', auc(fpr,tpr))"
   ]
  },
  {
   "cell_type": "markdown",
   "metadata": {},
   "source": [
    "<b>With Random forrest, our AUC has dropped to 92.2% from 96.8% and recall has also seen a dropped to 75% from 85%. However, precision has been increased from 60% to 94%. If we are only concerned about precision then ensemble method like Random forrest gives better results."
   ]
  },
  {
   "cell_type": "markdown",
   "metadata": {},
   "source": [
    "<b><font color = 'blue'>4. Bagging"
   ]
  },
  {
   "cell_type": "code",
   "execution_count": 107,
   "metadata": {},
   "outputs": [],
   "source": [
    "#preparing original data\n",
    "X= X_org\n",
    "y= y_org\n",
    "\n",
    "#  Train and Test datasets\n",
    "X_train, X_test, y_train, y_test = train_test_split(X, y, test_size=0.33, random_state=0)"
   ]
  },
  {
   "cell_type": "code",
   "execution_count": 127,
   "metadata": {
    "scrolled": true
   },
   "outputs": [
    {
     "name": "stdout",
     "output_type": "stream",
     "text": [
      "              precision    recall  f1-score   support\n",
      "\n",
      "           0       1.00      1.00      1.00     93879\n",
      "           1       0.59      0.88      0.70       108\n",
      "\n",
      "   micro avg       1.00      1.00      1.00     93987\n",
      "   macro avg       0.79      0.94      0.85     93987\n",
      "weighted avg       1.00      1.00      1.00     93987\n",
      "\n",
      "Accuracy = 0.9991488184536159\n"
     ]
    },
    {
     "data": {
      "image/png": "[encoded data removed]",
      "text/plain": [
       "<Figure size 432x288 with 1 Axes>"
      ]
     },
     "metadata": {},
     "output_type": "display_data"
    },
    {
     "name": "stdout",
     "output_type": "stream",
     "text": [
      "Area under curve (AUC):  0.9680629488179004\n"
     ]
    }
   ],
   "source": [
    "from sklearn import model_selection\n",
    "from sklearn.ensemble import BaggingClassifier\n",
    "from sklearn.tree import DecisionTreeClassifier\n",
    "\n",
    "seed = 7\n",
    "kfold = model_selection.KFold(n_splits=10, random_state=seed)\n",
    "num_trees = 100\n",
    "model = BaggingClassifier(LogisticRegression())\n",
    "model.fit(X_train, y_train)\n",
    "\n",
    "#test set\n",
    "predicted = model.predict(X_test)\n",
    "print(classification_report(predicted, y_test))\n",
    "print('Accuracy =', accuracy_score(y_test, predicted))\n",
    "\n",
    "from sklearn.metrics import roc_curve, auc\n",
    "y_score = model.predict_proba(X_test)[:,1]\n",
    "fpr, tpr, _ = roc_curve(y_test, y_score)\n",
    "\n",
    "title('ROC curve')\n",
    "xlabel('FPR (Precision)')\n",
    "ylabel('TPR (Recall)')\n",
    "\n",
    "plot(fpr,tpr)\n",
    "plot((0,1), ls='dashed',color='black')\n",
    "plt.show()\n",
    "print('Area under curve (AUC): ', auc(fpr,tpr))"
   ]
  },
  {
   "cell_type": "markdown",
   "metadata": {},
   "source": [
    "<b>Bagging does not play much role in imporvements of AUC, recall or precision scoes. There are marginal improvements."
   ]
  },
  {
   "cell_type": "markdown",
   "metadata": {},
   "source": [
    "<b><font color = 'blue'>5. Boosting (XGBoost, ADABoost)"
   ]
  },
  {
   "cell_type": "markdown",
   "metadata": {},
   "source": [
    "<B>5.1 XG Boost"
   ]
  },
  {
   "cell_type": "code",
   "execution_count": 95,
   "metadata": {},
   "outputs": [],
   "source": [
    "#preparing original data\n",
    "X= X_org\n",
    "y= y_org\n",
    "\n",
    "#  Train and Test datasets\n",
    "X_train, X_test, y_train, y_test = train_test_split(X, y, test_size=0.33, random_state=0)"
   ]
  },
  {
   "cell_type": "code",
   "execution_count": 102,
   "metadata": {
    "scrolled": true
   },
   "outputs": [
    {
     "name": "stdout",
     "output_type": "stream",
     "text": [
      "accuracy on the testing set: 0.999521210380159\n",
      "              precision    recall  f1-score   support\n",
      "\n",
      "           0       1.00      1.00      1.00     93848\n",
      "           1       0.79      0.92      0.85       139\n",
      "\n",
      "   micro avg       1.00      1.00      1.00     93987\n",
      "   macro avg       0.90      0.96      0.93     93987\n",
      "weighted avg       1.00      1.00      1.00     93987\n",
      "\n"
     ]
    },
    {
     "data": {
      "image/png": "[encoded data removed]",
      "text/plain": [
       "<Figure size 432x288 with 1 Axes>"
      ]
     },
     "metadata": {},
     "output_type": "display_data"
    },
    {
     "name": "stdout",
     "output_type": "stream",
     "text": [
      "Area under curve (AUC):  0.9828346376396825\n"
     ]
    }
   ],
   "source": [
    "from xgboost import XGBClassifier\n",
    "model2 = XGBClassifier(objective='reg:logistic')\n",
    "model2.fit(X_train, y_train)\n",
    "\n",
    "y_pred1 = model2.predict(X_test)\n",
    "# check the accuracy on the test dataset\n",
    "print(\"accuracy on the testing set:\",model2.score(X_test, y_test))\n",
    "print(classification_report(y_pred1, y_test))\n",
    "\n",
    "#ROC, AUC\n",
    "from sklearn.metrics import roc_curve, auc\n",
    "y_score = model2.predict_proba(X_test)[:,1]\n",
    "fpr, tpr, _ = roc_curve(y_test, y_score)\n",
    "\n",
    "title('ROC curve')\n",
    "xlabel('FPR (Precision)')\n",
    "ylabel('TPR (Recall)')\n",
    "\n",
    "plot(fpr,tpr)\n",
    "plot((0,1), ls='dashed',color='black')\n",
    "plt.show()\n",
    "print('Area under curve (AUC): ', auc(fpr,tpr))"
   ]
  },
  {
   "cell_type": "markdown",
   "metadata": {},
   "source": [
    "<b>Xgboost increased the performance of f1 score significantly to 85% from 71%(Refer section A-4 - original model) and AUC increased from 96.8% to 98.28%."
   ]
  },
  {
   "cell_type": "markdown",
   "metadata": {},
   "source": [
    "<b>5.2 ADABOOST"
   ]
  },
  {
   "cell_type": "code",
   "execution_count": 116,
   "metadata": {},
   "outputs": [],
   "source": [
    "#preparing original data\n",
    "X= X_org\n",
    "y= y_org\n",
    "\n",
    "#  Train and Test datasets\n",
    "X_train, X_test, y_train, y_test = train_test_split(X, y, test_size=0.33, random_state=0)"
   ]
  },
  {
   "cell_type": "code",
   "execution_count": 117,
   "metadata": {},
   "outputs": [],
   "source": [
    "from sklearn.ensemble import AdaBoostClassifier\n",
    "boost = AdaBoostClassifier()"
   ]
  },
  {
   "cell_type": "code",
   "execution_count": 128,
   "metadata": {},
   "outputs": [
    {
     "name": "stdout",
     "output_type": "stream",
     "text": [
      "[[93804    21]\n",
      " [   56   106]]\n",
      "accuracy on the testing set: 0.9991807377616053\n",
      "Accuracy = 0.9991807377616053\n",
      "              precision    recall  f1-score   support\n",
      "\n",
      "           0  0.99940337 0.99977618 0.99958974     93825\n",
      "           1  0.83464567 0.65432099 0.73356401       162\n",
      "\n",
      "   micro avg  0.99918074 0.99918074 0.99918074     93987\n",
      "   macro avg  0.91702452 0.82704858 0.86657688     93987\n",
      "weighted avg  0.99911938 0.99918074 0.99913120     93987\n",
      "\n",
      "[0.44843479 0.44348364 0.44381987 ... 0.45341238 0.26069472 0.45121132]\n"
     ]
    },
    {
     "data": {
      "image/png": "[encoded data removed]",
      "text/plain": [
       "<Figure size 432x288 with 1 Axes>"
      ]
     },
     "metadata": {},
     "output_type": "display_data"
    },
    {
     "name": "stdout",
     "output_type": "stream",
     "text": [
      "Area under curve (AUC):  0.9698149957400335\n"
     ]
    }
   ],
   "source": [
    "boost.fit(X_train, y_train)\n",
    "y_pred_boost = boost.predict(X_test)\n",
    "print(confusion_matrix( y_test,y_pred_boost))\n",
    "print(\"accuracy on the testing set:\",boost.score(X_test, y_test))\n",
    "print('Accuracy =', accuracy_score(y_test, y_pred_boost))\n",
    "print(classification_report(y_test,y_pred_boost,digits=8))\n",
    "\n",
    "from sklearn.metrics import roc_curve, auc\n",
    "y_score = boost.predict_proba(X_test)[:,1]\n",
    "print(y_score)\n",
    "fpr, tpr, _ = roc_curve(y_test, y_score)\n",
    "\n",
    "title('ROC curve')\n",
    "xlabel('FPR ')\n",
    "ylabel('TPR (Recall)')\n",
    "\n",
    "plot(fpr,tpr)\n",
    "plot((0,1), ls='dashed',color='black')\n",
    "plt.show()\n",
    "print('Area under curve (AUC): ', auc(fpr,tpr))"
   ]
  },
  {
   "cell_type": "markdown",
   "metadata": {},
   "source": [
    "<b>Adaboost does not play much role in imporvements of AUC, recall and F1-scores. There are marginal improvements. However,  precision scores have been improved from 60% to 83%."
   ]
  },
  {
   "cell_type": "markdown",
   "metadata": {},
   "source": [
    "<b><font color = 'blue'>6. Changing the Threshold"
   ]
  },
  {
   "cell_type": "code",
   "execution_count": 129,
   "metadata": {},
   "outputs": [
    {
     "name": "stdout",
     "output_type": "stream",
     "text": [
      "[[93799    34]\n",
      " [   26   128]]\n",
      "Accuracy = 0.9993616138402119\n",
      "              precision    recall  f1-score   support\n",
      "\n",
      "       False       1.00      1.00      1.00     93833\n",
      "        True       0.79      0.83      0.81       154\n",
      "\n",
      "   micro avg       1.00      1.00      1.00     93987\n",
      "   macro avg       0.89      0.92      0.90     93987\n",
      "weighted avg       1.00      1.00      1.00     93987\n",
      "\n"
     ]
    },
    {
     "data": {
      "image/png": "[encoded data removed]",
      "text/plain": [
       "<Figure size 432x288 with 1 Axes>"
      ]
     },
     "metadata": {},
     "output_type": "display_data"
    },
    {
     "name": "stdout",
     "output_type": "stream",
     "text": [
      "Area under curve (AUC):  0.96833762619534\n"
     ]
    }
   ],
   "source": [
    "X= X_org\n",
    "y= y_org\n",
    "#  Train and Test datasets\n",
    "X_train, X_test, y_train, y_test = train_test_split(X, y, test_size=0.33, random_state=0)\n",
    "\n",
    "# instantiate a logistic regression model, and fit with X_train and y_train\n",
    "model = LogisticRegression()\n",
    "model = model.fit(X_train, y_train)\n",
    "\n",
    "# check the accuracy on the training set\n",
    "model.score(X_train, y_train)\n",
    "\n",
    "# Predict class labels for the test set\n",
    "predicted = (model.predict_proba(X_test)[:,1] >= 0.1).astype(bool)\n",
    "\n",
    "# Confusion Matrix for train data\n",
    "print(confusion_matrix(predicted, y_test))\n",
    "print('Accuracy =', accuracy_score(y_test, predicted))\n",
    "\n",
    "print(classification_report(predicted, y_test))\n",
    "\n",
    "#ROC, AUC\n",
    "from sklearn.metrics import roc_curve, auc\n",
    "y_score = model.predict_proba(X_test)[:,1]\n",
    "fpr, tpr, _ = roc_curve(y_test, y_score)\n",
    "\n",
    "title('ROC curve')\n",
    "xlabel('FPR (Precision)')\n",
    "ylabel('TPR (Recall)')\n",
    "\n",
    "plot(fpr,tpr)\n",
    "plot((0,1), ls='dashed',color='black')\n",
    "plt.show()\n",
    "print('Area under curve (AUC): ', auc(fpr,tpr))"
   ]
  },
  {
   "cell_type": "markdown",
   "metadata": {},
   "source": [
    "<b>After changing the threshold to 10%, our F1-score for identifying fraudulent transactions has improved to 81% from 71%(Refer section A-4 - original model) though AUC remains the same."
   ]
  },
  {
   "cell_type": "markdown",
   "metadata": {},
   "source": [
    "<b><font color='blue'>CONCLUSION"
   ]
  },
  {
   "cell_type": "markdown",
   "metadata": {},
   "source": [
    "Scores summary of all the models are as follows:"
   ]
  },
  {
   "cell_type": "markdown",
   "metadata": {},
   "source": [
    "<table style=\"width:100%\">\n",
    "  <tr>\n",
    "    <th>Model</th>\n",
    "    <th>Accuracy</th>\n",
    "    <th>AUC</th> \n",
    "    <th>Precision</th>\n",
    "    <th>Recall</th>\n",
    "    <th>F1-Score</th>\n",
    "  </tr>\n",
    "  <tr>\n",
    "    <td>Original Model</td>\n",
    "    <td>0.99</td> \n",
    "    <td>0.96</td>\n",
    "      <td>0.6</td>\n",
    "      <td>0.87</td>\n",
    "      <td>0.71</td>\n",
    "  </tr>\n",
    "    \n",
    "  <tr>\n",
    "    <td>Cross Validation</td>\n",
    "    <td>0.99</td> \n",
    "    <td></td>\n",
    "      <td>0.59</td>\n",
    "      <td>0.85</td>\n",
    "      <td>0.69</td>\n",
    "  </tr>\n",
    "  \n",
    "  <tr bgcolor=\"#32CD32\">\n",
    "    <td>Oversampling (SMOTE)</td>\n",
    "    <td>0.946</td> \n",
    "    <td>0.989</td>\n",
    "      <td>0.92</td>\n",
    "      <td>0.97</td>\n",
    "      <td>0.95</td>\n",
    "  </tr>\n",
    "  \n",
    "   <tr>\n",
    "    <td>Ensemble (Random Forrest)</td>\n",
    "    <td>0.99</td> \n",
    "    <td>0.928</td>\n",
    "      <td>0.93</td>\n",
    "      <td>0.75</td>\n",
    "      <td>0.83</td>\n",
    "  </tr>\n",
    "  \n",
    "   <tr>\n",
    "    <td>Bagging (Decision Trees)</td>\n",
    "    <td>0.99</td> \n",
    "    <td>0.97</td>\n",
    "      <td>0.61</td>\n",
    "      <td>0.88</td>\n",
    "      <td>0.72</td>\n",
    "  </tr>\n",
    "  \n",
    "  <tr>\n",
    "    <td>Boosting (XGBOOST)</td>\n",
    "    <td>0.99</td> \n",
    "    <td>0.98</td>\n",
    "      <td>0.79</td>\n",
    "      <td>0.92</td>\n",
    "      <td>0.85</td>\n",
    "  </tr>\n",
    "  \n",
    "  <tr>\n",
    "    <td>Boosting (ADABOOST)</td>\n",
    "    <td>0.99</td> \n",
    "    <td>0.969</td>\n",
    "      <td>0.83</td>\n",
    "      <td>0.65</td>\n",
    "      <td>0.73</td>\n",
    "  </tr>\n",
    "  \n",
    "  <tr>\n",
    "    <td>Threshold change to 10%</td>\n",
    "    <td>0.99</td> \n",
    "    <td>0.968</td>\n",
    "      <td>0.79</td>\n",
    "      <td>0.83</td>\n",
    "      <td>0.81</td>\n",
    "  </tr>"
   ]
  },
  {
   "cell_type": "markdown",
   "metadata": {},
   "source": [
    "Out of all the methods we tried, we found that oversampling(SMOTE) method is best suited for our analysis. Significant high F1, Precision and recall scores are observed at a cost of small decline in the accuracy score.<br>\n",
    "\n",
    "Thus, with use of oversampling(SMOTE) model, banks can better detect fradulent transactions."
   ]
  },
  {
   "cell_type": "markdown",
   "metadata": {},
   "source": [
    "--------------------------------------- End of the document ---------------------------------------"
   ]
  }
 ],
 "metadata": {
  "kernelspec": {
   "display_name": "Python 3",
   "language": "python",
   "name": "python3"
  },
  "language_info": {
   "codemirror_mode": {
    "name": "ipython",
    "version": 3
   },
   "file_extension": ".py",
   "mimetype": "text/x-python",
   "name": "python",
   "nbconvert_exporter": "python",
   "pygments_lexer": "ipython3",
   "version": "3.6.4"
  }
 },
 "nbformat": 4,
 "nbformat_minor": 2
}
